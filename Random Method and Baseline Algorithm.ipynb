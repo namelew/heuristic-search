{
 "cells": [
  {
   "cell_type": "code",
   "execution_count": null,
   "id": "a15ab3e0",
   "metadata": {},
   "outputs": [],
   "source": [
    "import sys\n",
    "!{sys.executable} -m pip install scipy"
   ]
  },
  {
   "cell_type": "code",
   "execution_count": null,
   "id": "de47a981",
   "metadata": {},
   "outputs": [],
   "source": [
    "from scipy.spatial import distance\n",
    "from random import randint\n",
    "import time"
   ]
  },
  {
   "cell_type": "code",
   "execution_count": null,
   "id": "5980bb0a",
   "metadata": {},
   "outputs": [],
   "source": [
    "# crinado matrix de adjacencia com as cidades do Saara Oeste\n",
    "instancia = open('Instancias/western-sahara.tsp')\n",
    "conjunto = []\n",
    "grafo = []\n",
    "\n",
    "for line in instancia.readlines()[7:]:\n",
    "    node = line.split()\n",
    "    if node[0].isnumeric():\n",
    "        conjunto.append((float(node[1]), float(node[2])))\n",
    "instancia.close()\n",
    "\n",
    "for i in range(len(conjunto)):\n",
    "    node = []\n",
    "    for j in range(len(conjunto)):\n",
    "        dn = distance.euclidean(conjunto[i], conjunto[j])\n",
    "        node.append(round(dn,0))\n",
    "    grafo.append(node)       "
   ]
  },
  {
   "cell_type": "code",
   "execution_count": 15,
   "id": "c0168167",
   "metadata": {},
   "outputs": [
    {
     "data": {
      "text/plain": [
       "53342.0"
      ]
     },
     "execution_count": 15,
     "metadata": {},
     "output_type": "execute_result"
    }
   ],
   "source": [
    "# algoritmo aleatório para resolução do problema do caxeiro viajante\n",
    "\n",
    "inicio = 0\n",
    "custo_min = 0\n",
    "\n",
    "start = int(time.time())\n",
    "\n",
    "while (start - int(time.time())) * -1 != 30:\n",
    "    solucao = []\n",
    "    aux = inicio\n",
    "    custo = 0\n",
    "    for node in range(len(grafo[0])):\n",
    "        proximo = randint(0, len(grafo[0]) - 1)\n",
    "        \n",
    "        if len(solucao) == 28:\n",
    "            aresta = (aux, inicio)\n",
    "        else:\n",
    "            aresta = (aux, proximo)\n",
    "        custo += grafo[aresta[0]][aresta[1]]\n",
    "        \n",
    "        aux = proximo\n",
    "    if custo < custo_min or custo_min == 0:\n",
    "        custo_min = custo\n",
    "custo_min"
   ]
  },
  {
   "cell_type": "code",
   "execution_count": null,
   "id": "5b32f4c6",
   "metadata": {},
   "outputs": [],
   "source": []
  }
 ],
 "metadata": {
  "kernelspec": {
   "display_name": "Python 3 (ipykernel)",
   "language": "python",
   "name": "python3"
  },
  "language_info": {
   "codemirror_mode": {
    "name": "ipython",
    "version": 3
   },
   "file_extension": ".py",
   "mimetype": "text/x-python",
   "name": "python",
   "nbconvert_exporter": "python",
   "pygments_lexer": "ipython3",
   "version": "3.9.12"
  }
 },
 "nbformat": 4,
 "nbformat_minor": 5
}
