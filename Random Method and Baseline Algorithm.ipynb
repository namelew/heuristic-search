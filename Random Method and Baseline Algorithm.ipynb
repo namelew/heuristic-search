{
 "cells": [
  {
   "cell_type": "code",
   "execution_count": 57,
   "id": "8f38089b",
   "metadata": {},
   "outputs": [
    {
     "name": "stdout",
     "output_type": "stream",
     "text": [
      "Requirement already satisfied: scipy in c:\\users\\diogo\\anaconda3\\lib\\site-packages (1.7.3)\n",
      "Requirement already satisfied: numpy<1.23.0,>=1.16.5 in c:\\users\\diogo\\anaconda3\\lib\\site-packages (from scipy) (1.21.5)\n"
     ]
    }
   ],
   "source": [
    "import sys\n",
    "!{sys.executable} -m pip install scipy"
   ]
  },
  {
   "cell_type": "code",
   "execution_count": 58,
   "id": "97651cc5",
   "metadata": {},
   "outputs": [],
   "source": [
    "from scipy.spatial import distance\n",
    "from random import randint\n",
    "import time\n",
    "import datetime"
   ]
  },
  {
   "cell_type": "code",
   "execution_count": 59,
   "id": "20427c07",
   "metadata": {},
   "outputs": [],
   "source": [
    "# crinado matrix de adjacencia com as cidades do Saara Oeste\n",
    "instancia = open('Instancias/western-sahara.tsp')\n",
    "conjunto = []\n",
    "grafo = []\n",
    "\n",
    "for line in instancia.readlines()[7:]:\n",
    "    node = line.split()\n",
    "    if node[0].isnumeric():\n",
    "        conjunto.append((float(node[1]), float(node[2])))\n",
    "instancia.close()\n",
    "\n",
    "for i in range(len(conjunto)):\n",
    "    node = []\n",
    "    for j in range(len(conjunto)):\n",
    "        dn = distance.euclidean(conjunto[i], conjunto[j])\n",
    "        node.append(round(dn,0))\n",
    "    grafo.append(node)       "
   ]
  },
  {
   "cell_type": "code",
   "execution_count": 60,
   "id": "55be61ce",
   "metadata": {},
   "outputs": [
    {
     "data": {
      "text/plain": [
       "51360.0"
      ]
     },
     "execution_count": 60,
     "metadata": {},
     "output_type": "execute_result"
    }
   ],
   "source": [
    "# algoritmo aleatório para resolução do problema do caxeiro viajante\n",
    "\n",
    "inicio = 0\n",
    "custo_min = 0\n",
    "\n",
    "start = int(time.time())\n",
    "\n",
    "while (start - int(time.time())) * -1 != 30:\n",
    "    solucao = []\n",
    "    aux = inicio\n",
    "    custo = 0\n",
    "    for node in range(len(grafo[0])):\n",
    "        proximo = randint(0, len(grafo[0]) - 1)\n",
    "        \n",
    "        if len(solucao) == 28:\n",
    "            aresta = (aux, inicio)\n",
    "        else:\n",
    "            aresta = (aux, proximo)\n",
    "        custo += grafo[aresta[0]][aresta[1]]\n",
    "        \n",
    "        aux = proximo\n",
    "    if custo < custo_min or custo_min == 0:\n",
    "        custo_min = custo\n",
    "custo_min"
   ]
  },
  {
   "cell_type": "code",
   "execution_count": 61,
   "id": "24587035",
   "metadata": {
    "scrolled": true
   },
   "outputs": [
    {
     "name": "stdout",
     "output_type": "stream",
     "text": [
      "Custo minimo 29600.0\n",
      "Percurso [0, 28, 27, 26, 25, 24, 23, 22, 21, 20, 19, 18, 17, 16, 15, 14, 13, 12, 11, 10, 9, 8, 7, 6, 5, 4, 3, 2, 1, 0]\n",
      "Tempo(ms): 0\n"
     ]
    }
   ],
   "source": [
    "# brute force - minor path dijkstra\n",
    "\n",
    "class Node:\n",
    "    def __init__(self, node, before, custo):\n",
    "        self.node = node\n",
    "        self.custo = custo\n",
    "        self.before = before\n",
    "        self.visited = False\n",
    "\n",
    "def explore(caminhos):\n",
    "    mini = sys.maxsize\n",
    "    new = 0\n",
    "    for i in range(len(caminhos) - 1):\n",
    "        if not caminhos[i].visited and caminhos[i].custo < mini:\n",
    "            new = i\n",
    "    return new\n",
    "\n",
    "def dijkstraMinorPath(grafo, inicio):\n",
    "    nodos = []\n",
    "    path = []\n",
    "    \n",
    "    for i in range(len(grafo[0])):\n",
    "        nodos.append(Node(i, -1, sys.maxsize))\n",
    "    nodos.append(Node(inicio, -1, sys.maxsize))\n",
    "    \n",
    "    nodos[inicio].custo = 0\n",
    "    \n",
    "    for i in range(len(grafo[0])):\n",
    "        current = explore(nodos)\n",
    "        nodos[current].visited = True\n",
    "        \n",
    "        path.append(current)\n",
    "        \n",
    "        for j in range(len(grafo[0])):\n",
    "            if grafo[current][j] != 0 and not nodos[j].visited and grafo[current][j] < nodos[j].custo:\n",
    "                nodos[j].custo = grafo[current][j]\n",
    "                nodos[j].before = current\n",
    "    nodos[-1].custo = grafo[current][inicio]\n",
    "    nodos[-1].before = current\n",
    "    \n",
    "    path.append(inicio)\n",
    "    \n",
    "    return path, nodos\n",
    "\n",
    "# main \n",
    "start = datetime.datetime.now()\n",
    "caminho, solucao = dijkstraMinorPath(grafo, 0)\n",
    "end = datetime.datetime.now()\n",
    "custo_min = 0\n",
    "for nodo in solucao:\n",
    "  custo_min += nodo.custo\n",
    "print(\"Custo minimo\",custo_min)\n",
    "print(\"Percurso\", caminho)\n",
    "print(\"Tempo(ms):\", int(end.microsecond)-int(start.microsecond))"
   ]
  },
  {
   "cell_type": "code",
   "execution_count": null,
   "id": "9d485f72",
   "metadata": {},
   "outputs": [],
   "source": []
  }
 ],
 "metadata": {
  "kernelspec": {
   "display_name": "Python 3 (ipykernel)",
   "language": "python",
   "name": "python3"
  },
  "language_info": {
   "codemirror_mode": {
    "name": "ipython",
    "version": 3
   },
   "file_extension": ".py",
   "mimetype": "text/x-python",
   "name": "python",
   "nbconvert_exporter": "python",
   "pygments_lexer": "ipython3",
   "version": "3.9.12"
  }
 },
 "nbformat": 4,
 "nbformat_minor": 5
}
